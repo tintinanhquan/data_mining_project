{
 "cells": [
  {
   "cell_type": "code",
   "execution_count": 20,
   "id": "ef89e55e",
   "metadata": {},
   "outputs": [],
   "source": [
    "import pandas as pd\n",
    "import numpy as np\n",
    "from scipy.stats import ttest_ind\n",
    "from statsmodels.stats.multitest import multipletests\n",
    "import os"
   ]
  },
  {
   "cell_type": "code",
   "execution_count": 23,
   "id": "4b58af24",
   "metadata": {},
   "outputs": [],
   "source": [
    "def remove_outliers(data):\n",
    "    Q1 = np.percentile(data, 25)\n",
    "    Q3 = np.percentile(data, 75)\n",
    "    IQR = Q3 - Q1\n",
    "    lower_bound = Q1 - 1.5 * IQR\n",
    "    upper_bound = Q3 + 1.5 * IQR\n",
    "    return data[(data > lower_bound) & (data < upper_bound)]"
   ]
  },
  {
   "cell_type": "code",
   "execution_count": 25,
   "id": "77bdce1e",
   "metadata": {},
   "outputs": [
    {
     "name": "stdout",
     "output_type": "stream",
     "text": [
      "Day 3: T-statistic = -3.717, Original P-value = 0.000, Corrected P-value = 0.001, Anomaly Detected: True\n",
      "Day 4: T-statistic = -4.364, Original P-value = 0.000, Corrected P-value = 0.000, Anomaly Detected: True\n",
      "Day 0: T-statistic = -13.443, Original P-value = 0.000, Corrected P-value = 0.000, Anomaly Detected: True\n",
      "Day 1: T-statistic = 5.745, Original P-value = 0.000, Corrected P-value = 0.000, Anomaly Detected: True\n",
      "Day 2: T-statistic = 16.215, Original P-value = 0.000, Corrected P-value = 0.000, Anomaly Detected: True\n"
     ]
    }
   ],
   "source": [
    "# Directory containing all CSV files\n",
    "def load_and_process_data(directory):\n",
    "    all_data = pd.DataFrame()\n",
    "    for filename in os.listdir(directory):\n",
    "        if filename.endswith(\".csv\"):\n",
    "            file_path = os.path.join(directory, filename)\n",
    "            data = pd.read_csv(file_path)\n",
    "            data['Date'] = pd.to_datetime(data['TradingDate'], format='%d/%m/%Y')\n",
    "            data['Returns'] = data['Close'].pct_change()\n",
    "            data = data.dropna(subset=['Returns'])  # Drop NaN to ensure percentile calculation works\n",
    "            clean_returns = remove_outliers(data['Returns'])\n",
    "            data = data.loc[clean_returns.index]\n",
    "            all_data = pd.concat([all_data, data], ignore_index=True)\n",
    "    return all_data.dropna(subset=['Returns'])\n",
    "\n",
    "def analyze_anomalies(data):\n",
    "    data['DayOfWeek'] = data['Date'].dt.dayofweek\n",
    "    data['Week'] = data['Date'].dt.isocalendar().week\n",
    "    data['Month'] = data['Date'].dt.month\n",
    "\n",
    "    # Analyze anomalies for each day of the week\n",
    "    test_results = []\n",
    "    days = data['DayOfWeek'].unique()\n",
    "    for day in days:\n",
    "        current_day_returns = data[data['DayOfWeek'] == day]['Returns']\n",
    "        other_days_returns = data[data['DayOfWeek'] != day]['Returns']\n",
    "        stat, p = ttest_ind(current_day_returns, other_days_returns, equal_var=False)\n",
    "        test_results.append((day, stat, p))\n",
    "    \n",
    "    # Correct for multiple testing\n",
    "    p_values = [result[2] for result in test_results]\n",
    "    corrected_results = multipletests(p_values, alpha=0.05, method='bonferroni')\n",
    "    corrected_p_values = corrected_results[1]\n",
    "    rejections = corrected_results[0]\n",
    "\n",
    "    # Print the results\n",
    "    for (day, stat, p), corrected_p, reject in zip(test_results, corrected_p_values, rejections):\n",
    "        print(f\"Day {day}: T-statistic = {stat:.3f}, Original P-value = {p:.3f}, Corrected P-value = {corrected_p:.3f}, Anomaly Detected: {reject}\")\n",
    "\n",
    "\n",
    "# Main execution\n",
    "directory = '/Users/juss/Documents/GitHub/data_mining_project/Data/Timeseries_Data'\n",
    "data = load_and_process_data(directory)\n",
    "analyze_anomalies(data)"
   ]
  },
  {
   "cell_type": "code",
   "execution_count": 16,
   "id": "39eaa931",
   "metadata": {},
   "outputs": [],
   "source": []
  },
  {
   "cell_type": "code",
   "execution_count": 17,
   "id": "6279ea2e",
   "metadata": {},
   "outputs": [],
   "source": []
  },
  {
   "cell_type": "code",
   "execution_count": null,
   "id": "f8553dc9",
   "metadata": {},
   "outputs": [],
   "source": []
  },
  {
   "cell_type": "code",
   "execution_count": null,
   "id": "0cfc6ccc",
   "metadata": {},
   "outputs": [],
   "source": []
  },
  {
   "cell_type": "code",
   "execution_count": null,
   "id": "f018b68d",
   "metadata": {},
   "outputs": [],
   "source": []
  }
 ],
 "metadata": {
  "kernelspec": {
   "display_name": "Python 3 (ipykernel)",
   "language": "python",
   "name": "python3"
  },
  "language_info": {
   "codemirror_mode": {
    "name": "ipython",
    "version": 3
   },
   "file_extension": ".py",
   "mimetype": "text/x-python",
   "name": "python",
   "nbconvert_exporter": "python",
   "pygments_lexer": "ipython3",
   "version": "3.10.9"
  }
 },
 "nbformat": 4,
 "nbformat_minor": 5
}
